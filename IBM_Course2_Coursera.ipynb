{
  "metadata": {
    "language_info": {
      "codemirror_mode": {
        "name": "python",
        "version": 3
      },
      "file_extension": ".py",
      "mimetype": "text/x-python",
      "name": "python",
      "nbconvert_exporter": "python",
      "pygments_lexer": "ipython3",
      "version": "3.8"
    },
    "kernelspec": {
      "name": "python",
      "display_name": "Pyolite",
      "language": "python"
    }
  },
  "nbformat_minor": 4,
  "nbformat": 4,
  "cells": [
    {
      "cell_type": "markdown",
      "source": "## <font color=blue>My Jupyter Notebook</font>",
      "metadata": {}
    },
    {
      "cell_type": "markdown",
      "source": "__Aline Fontes__<br>Data Science",
      "metadata": {}
    },
    {
      "cell_type": "markdown",
      "source": "*I am interested in data science as it is an area with many job opportunities.<br>\nThe use of data in different areas of knowledge has brought a range of new insights.*",
      "metadata": {}
    },
    {
      "cell_type": "markdown",
      "source": "### Simple Code Example : Sum of two whole numbers",
      "metadata": {}
    },
    {
      "cell_type": "code",
      "source": "1 + 1",
      "metadata": {
        "trusted": true
      },
      "execution_count": 1,
      "outputs": [
        {
          "execution_count": 1,
          "output_type": "execute_result",
          "data": {
            "text/plain": "2"
          },
          "metadata": {}
        }
      ]
    },
    {
      "cell_type": "markdown",
      "source": "#### Skills:\n* Machine Learning\n* SQL\n* Python\n* HTML\n* PostgreSQL\n* Knime\n* G Suite\n* Microsoft Office",
      "metadata": {}
    },
    {
      "cell_type": "markdown",
      "source": "My profile:\nhttps://www.linkedin.com/in/alinefontes/",
      "metadata": {}
    },
    {
      "cell_type": "markdown",
      "source": "***",
      "metadata": {}
    }
  ]
}
